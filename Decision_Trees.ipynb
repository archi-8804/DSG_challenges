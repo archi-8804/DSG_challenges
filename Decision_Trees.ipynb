{
 "cells": [
  {
   "cell_type": "code",
   "execution_count": 14,
   "id": "c6fd3c8c",
   "metadata": {},
   "outputs": [],
   "source": [
    "import pandas as pd\n",
    "import numpy as np\n",
    "from matplotlib import pyplot as plt\n",
    "from sklearn.ensemble import RandomForestClassifier\n",
    "from sklearn.svm import SVC\n",
    "from sklearn.metrics import confusion_matrix, classification_report\n",
    "from sklearn.preprocessing import StandardScaler, LabelEncoder\n",
    "from sklearn.model_selection import train_test_split\n",
    "from sklearn.linear_model import LogisticRegression\n",
    "from sklearn.linear_model import LinearRegression\n",
    "from sklearn.model_selection import cross_val_score\n",
    "from sklearn.model_selection import KFold\n",
    "from sklearn.tree import DecisionTreeClassifier\n",
    "from sklearn.metrics import accuracy_score\n",
    "from sklearn.tree import export_graphviz\n",
    "import graphviz\n",
    "import joblib\n",
    "%matplotlib inline\n"
   ]
  },
  {
   "cell_type": "code",
   "execution_count": 2,
   "id": "43cac36e",
   "metadata": {},
   "outputs": [],
   "source": [
    "df_1= pd.read_csv('a1_raw.csv')\n",
    "df_2= pd.read_csv('a1_va3.csv')\n",
    "df_3= pd.read_csv('a2_raw.csv')\n",
    "df_4= pd.read_csv('a3_raw.csv')\n",
    "df_5= pd.read_csv('a3_va3.csv')\n",
    "df_6= pd.read_csv('b1_raw.csv')\n",
    "df_7= pd.read_csv('b1_va3.csv')\n",
    "df_8= pd.read_csv('b3_raw.csv')\n",
    "df_9= pd.read_csv('b3_va3.csv')\n",
    "df_10= pd.read_csv('c1_raw.csv')\n",
    "df_11= pd.read_csv('c1_va3.csv')\n",
    "df_12= pd.read_csv('c3_raw.csv')\n",
    "df_13= pd.read_csv('c3_va3.csv')\n",
    "df_14=pd.read_csv('test.csv')"
   ]
  },
  {
   "cell_type": "code",
   "execution_count": 3,
   "id": "dfae9e51",
   "metadata": {},
   "outputs": [],
   "source": [
    "list_of_dataframes = [df_1, df_2, df_3, df_4, df_5, df_6, df_7, df_8, df_9, df_10, df_11, df_12, df_13]\n",
    "concatenated_df = pd.concat(list_of_dataframes, ignore_index=True)"
   ]
  },
  {
   "cell_type": "code",
   "execution_count": 4,
   "id": "7bb46ff5",
   "metadata": {},
   "outputs": [],
   "source": [
    "\n",
    "data_1 = {'phase': ['Rest', 'Preparation', 'Stroke', 'Hold', 'Retraction']}\n",
    "df_a = pd.DataFrame(data_1)\n",
    "\n",
    "\n",
    "label_encoder_a = LabelEncoder()\n",
    "\n",
    "\n",
    "df_a['phase_encoded'] = label_encoder_a.fit_transform(df_a['phase'])\n",
    "\n",
    "\n",
    "concatenated_df = concatenated_df.drop(columns=['phase'])\n",
    "\n",
    "\n",
    "concatenated_df['phase_encoded'] = df_a['phase_encoded']\n",
    "\n",
    "\n",
    "\n"
   ]
  },
  {
   "cell_type": "code",
   "execution_count": 5,
   "id": "0c47ab27",
   "metadata": {},
   "outputs": [
    {
     "name": "stdout",
     "output_type": "stream",
     "text": [
      "            lhx       lhy       lhz       rhx       rhy       rhz        hx  \\\n",
      "0      5.347435  4.363681  1.501913  5.258967  4.319263  1.488703  5.037871   \n",
      "1      4.869622  4.254210  1.556133  5.240113  4.346338  1.554309  5.037610   \n",
      "2      5.357447  4.364039  1.500969  5.238928  4.347924  1.554150  5.037514   \n",
      "3      4.942886  4.281878  1.546513  5.111436  4.229660  1.527091  5.037526   \n",
      "4      5.003160  4.278530  1.542866  4.985812  4.182155  1.520330  5.037557   \n",
      "...         ...       ...       ...       ...       ...       ...       ...   \n",
      "18509       NaN       NaN       NaN       NaN       NaN       NaN       NaN   \n",
      "18510       NaN       NaN       NaN       NaN       NaN       NaN       NaN   \n",
      "18511       NaN       NaN       NaN       NaN       NaN       NaN       NaN   \n",
      "18512       NaN       NaN       NaN       NaN       NaN       NaN       NaN   \n",
      "18513       NaN       NaN       NaN       NaN       NaN       NaN       NaN   \n",
      "\n",
      "             hy        hz        sx  ...        25        26        27  \\\n",
      "0      1.618295  1.778350  5.062803  ...       NaN       NaN       NaN   \n",
      "1      1.618370  1.778573  5.061430  ...       NaN       NaN       NaN   \n",
      "2      1.618298  1.778774  5.059245  ...       NaN       NaN       NaN   \n",
      "3      1.618612  1.778855  5.056475  ...       NaN       NaN       NaN   \n",
      "4      1.619226  1.778925  5.052367  ...       NaN       NaN       NaN   \n",
      "...         ...       ...       ...  ...       ...       ...       ...   \n",
      "18509       NaN       NaN       NaN  ...  0.007240  0.001109  0.006056   \n",
      "18510       NaN       NaN       NaN  ...  0.001712  0.001202  0.001160   \n",
      "18511       NaN       NaN       NaN  ...  0.008504  0.000944  0.005786   \n",
      "18512       NaN       NaN       NaN  ...  0.009145  0.000944  0.006173   \n",
      "18513       NaN       NaN       NaN  ...  0.000216  0.000857  0.000237   \n",
      "\n",
      "             28        29        30        31        32  phase_encoded  \\\n",
      "0           NaN       NaN       NaN       NaN       NaN            2.0   \n",
      "1           NaN       NaN       NaN       NaN       NaN            1.0   \n",
      "2           NaN       NaN       NaN       NaN       NaN            4.0   \n",
      "3           NaN       NaN       NaN       NaN       NaN            0.0   \n",
      "4           NaN       NaN       NaN       NaN       NaN            3.0   \n",
      "...         ...       ...       ...       ...       ...            ...   \n",
      "18509  0.000173  0.001976  0.000137  0.001575  0.000051            NaN   \n",
      "18510  0.000515  0.002600  0.000701  0.001738  0.000124            NaN   \n",
      "18511  0.000431  0.002007  0.000071  0.001697  0.000112            NaN   \n",
      "18512  0.000699  0.000229  0.000023  0.000139  0.000113            NaN   \n",
      "18513  0.000808  0.002763  0.000037  0.001840  0.000036            NaN   \n",
      "\n",
      "       Phase_encoded  \n",
      "0                0.0  \n",
      "1                2.0  \n",
      "2                4.0  \n",
      "3                1.0  \n",
      "4                3.0  \n",
      "...              ...  \n",
      "18509            NaN  \n",
      "18510            NaN  \n",
      "18511            NaN  \n",
      "18512            NaN  \n",
      "18513            NaN  \n",
      "\n",
      "[18514 rows x 53 columns]\n"
     ]
    }
   ],
   "source": [
    "data_2 = {'Phase': ['D', 'P', 'S', 'H', 'R']}\n",
    "df_b = pd.DataFrame(data_2)\n",
    "\n",
    "\n",
    "label_encoder_b = LabelEncoder()\n",
    "\n",
    "\n",
    "df_b['Phase_encoded'] = label_encoder_b.fit_transform(df_b['Phase'])\n",
    "\n",
    "\n",
    "concatenated_df = concatenated_df.drop(columns=['Phase'])\n",
    "\n",
    "\n",
    "concatenated_df['Phase_encoded'] = df_b['Phase_encoded']\n",
    "\n",
    "print(concatenated_df)"
   ]
  },
  {
   "cell_type": "code",
   "execution_count": 6,
   "id": "f6601b17",
   "metadata": {},
   "outputs": [],
   "source": [
    "numeric_columns = concatenated_df.select_dtypes(include=[np.number])\n",
    "concatenated_df[numeric_columns.columns] = numeric_columns.fillna(numeric_columns.mean())\n"
   ]
  },
  {
   "cell_type": "code",
   "execution_count": 7,
   "id": "906d9296",
   "metadata": {},
   "outputs": [
    {
     "name": "stdout",
     "output_type": "stream",
     "text": [
      "lhx              False\n",
      "lhy              False\n",
      "lhz              False\n",
      "rhx              False\n",
      "rhy              False\n",
      "rhz              False\n",
      "hx               False\n",
      "hy               False\n",
      "hz               False\n",
      "sx               False\n",
      "sy               False\n",
      "sz               False\n",
      "lwx              False\n",
      "lwy              False\n",
      "lwz              False\n",
      "rwx              False\n",
      "rwy              False\n",
      "rwz              False\n",
      "timestamp        False\n",
      "1                False\n",
      "2                False\n",
      "3                False\n",
      "4                False\n",
      "5                False\n",
      "6                False\n",
      "7                False\n",
      "8                False\n",
      "9                False\n",
      "10               False\n",
      "11               False\n",
      "12               False\n",
      "13               False\n",
      "14               False\n",
      "15               False\n",
      "16               False\n",
      "17               False\n",
      "18               False\n",
      "19               False\n",
      "20               False\n",
      "21               False\n",
      "22               False\n",
      "23               False\n",
      "24               False\n",
      "25               False\n",
      "26               False\n",
      "27               False\n",
      "28               False\n",
      "29               False\n",
      "30               False\n",
      "31               False\n",
      "32               False\n",
      "phase_encoded    False\n",
      "Phase_encoded    False\n",
      "dtype: bool\n"
     ]
    }
   ],
   "source": [
    "null_columns = concatenated_df.isnull().any() \n",
    "print(null_columns)\n"
   ]
  },
  {
   "cell_type": "code",
   "execution_count": 20,
   "id": "f9d9aabd",
   "metadata": {},
   "outputs": [],
   "source": [
    "feature_names=['lhx', 'lhy', 'lhz', 'rhx', 'rhy', 'rhz', 'hx', 'hy', 'hz', 'sx', 'sy',\n",
    "       'sz', 'lwx', 'lwy', 'lwz', 'rwx', 'rwy', 'rwz', 'timestamp', '1', '2',\n",
    "       '3', '4', '5', '6', '7', '8', '9', '10', '11', '12', '13', '14', '15',\n",
    "       '16', '17', '18', '19', '20', '21', '22', '23', '24', '25', '26', '27',\n",
    "       '28', '29', '30', '31', '32', 'phase_encoded']\n",
    "class_names=[ 'Phase_encoded']"
   ]
  },
  {
   "cell_type": "code",
   "execution_count": 21,
   "id": "a8962c87",
   "metadata": {},
   "outputs": [],
   "source": [
    "X = concatenated_df.drop(columns=['Phase_encoded'])\n",
    "y = concatenated_df['Phase_encoded']\n",
    "X_train, X_test, y_train, y_test = train_test_split(X, y, test_size=0.3)\n",
    "\n"
   ]
  },
  {
   "cell_type": "code",
   "execution_count": 22,
   "id": "9374d740",
   "metadata": {},
   "outputs": [],
   "source": [
    "model = DecisionTreeClassifier()\n",
    "model.fit(X_train, y_train)\n",
    "predictions = model.predict(X_test)"
   ]
  },
  {
   "cell_type": "code",
   "execution_count": 23,
   "id": "702b1cf7",
   "metadata": {},
   "outputs": [
    {
     "name": "stdout",
     "output_type": "stream",
     "text": [
      "Accuracy: 1.00\n"
     ]
    }
   ],
   "source": [
    "accuracy = accuracy_score(y_test, predictions)\n",
    "print(f\"Accuracy: {accuracy:.2f}\")\n"
   ]
  },
  {
   "cell_type": "code",
   "execution_count": 25,
   "id": "3df30efc",
   "metadata": {},
   "outputs": [
    {
     "ename": "IndexError",
     "evalue": "index 1 is out of bounds for axis 0 with size 1",
     "output_type": "error",
     "traceback": [
      "\u001b[1;31m---------------------------------------------------------------------------\u001b[0m",
      "\u001b[1;31mIndexError\u001b[0m                                Traceback (most recent call last)",
      "Cell \u001b[1;32mIn[25], line 1\u001b[0m\n\u001b[1;32m----> 1\u001b[0m dot_data \u001b[38;5;241m=\u001b[39m \u001b[43mexport_graphviz\u001b[49m\u001b[43m(\u001b[49m\u001b[43mmodel\u001b[49m\u001b[43m,\u001b[49m\u001b[43m \u001b[49m\u001b[43mout_file\u001b[49m\u001b[38;5;241;43m=\u001b[39;49m\u001b[38;5;28;43;01mNone\u001b[39;49;00m\u001b[43m,\u001b[49m\u001b[43m \u001b[49m\u001b[43mfeature_names\u001b[49m\u001b[38;5;241;43m=\u001b[39;49m\u001b[43mfeature_names\u001b[49m\u001b[43m,\u001b[49m\u001b[43m \u001b[49m\u001b[43mclass_names\u001b[49m\u001b[38;5;241;43m=\u001b[39;49m\u001b[43mclass_names\u001b[49m\u001b[43m)\u001b[49m\n\u001b[0;32m      2\u001b[0m graph \u001b[38;5;241m=\u001b[39m graphviz\u001b[38;5;241m.\u001b[39mSource(dot_data)\n\u001b[0;32m      3\u001b[0m graph\u001b[38;5;241m.\u001b[39mformat \u001b[38;5;241m=\u001b[39m \u001b[38;5;124m'\u001b[39m\u001b[38;5;124mpng\u001b[39m\u001b[38;5;124m'\u001b[39m\n",
      "File \u001b[1;32m~\\AppData\\Local\\Programs\\Python\\Python310\\lib\\site-packages\\sklearn\\utils\\_param_validation.py:211\u001b[0m, in \u001b[0;36mvalidate_params.<locals>.decorator.<locals>.wrapper\u001b[1;34m(*args, **kwargs)\u001b[0m\n\u001b[0;32m    205\u001b[0m \u001b[38;5;28;01mtry\u001b[39;00m:\n\u001b[0;32m    206\u001b[0m     \u001b[38;5;28;01mwith\u001b[39;00m config_context(\n\u001b[0;32m    207\u001b[0m         skip_parameter_validation\u001b[38;5;241m=\u001b[39m(\n\u001b[0;32m    208\u001b[0m             prefer_skip_nested_validation \u001b[38;5;129;01mor\u001b[39;00m global_skip_validation\n\u001b[0;32m    209\u001b[0m         )\n\u001b[0;32m    210\u001b[0m     ):\n\u001b[1;32m--> 211\u001b[0m         \u001b[38;5;28;01mreturn\u001b[39;00m func(\u001b[38;5;241m*\u001b[39margs, \u001b[38;5;241m*\u001b[39m\u001b[38;5;241m*\u001b[39mkwargs)\n\u001b[0;32m    212\u001b[0m \u001b[38;5;28;01mexcept\u001b[39;00m InvalidParameterError \u001b[38;5;28;01mas\u001b[39;00m e:\n\u001b[0;32m    213\u001b[0m     \u001b[38;5;66;03m# When the function is just a wrapper around an estimator, we allow\u001b[39;00m\n\u001b[0;32m    214\u001b[0m     \u001b[38;5;66;03m# the function to delegate validation to the estimator, but we replace\u001b[39;00m\n\u001b[0;32m    215\u001b[0m     \u001b[38;5;66;03m# the name of the estimator by the name of the function in the error\u001b[39;00m\n\u001b[0;32m    216\u001b[0m     \u001b[38;5;66;03m# message to avoid confusion.\u001b[39;00m\n\u001b[0;32m    217\u001b[0m     msg \u001b[38;5;241m=\u001b[39m re\u001b[38;5;241m.\u001b[39msub(\n\u001b[0;32m    218\u001b[0m         \u001b[38;5;124mr\u001b[39m\u001b[38;5;124m\"\u001b[39m\u001b[38;5;124mparameter of \u001b[39m\u001b[38;5;124m\\\u001b[39m\u001b[38;5;124mw+ must be\u001b[39m\u001b[38;5;124m\"\u001b[39m,\n\u001b[0;32m    219\u001b[0m         \u001b[38;5;124mf\u001b[39m\u001b[38;5;124m\"\u001b[39m\u001b[38;5;124mparameter of \u001b[39m\u001b[38;5;132;01m{\u001b[39;00mfunc\u001b[38;5;241m.\u001b[39m\u001b[38;5;18m__qualname__\u001b[39m\u001b[38;5;132;01m}\u001b[39;00m\u001b[38;5;124m must be\u001b[39m\u001b[38;5;124m\"\u001b[39m,\n\u001b[0;32m    220\u001b[0m         \u001b[38;5;28mstr\u001b[39m(e),\n\u001b[0;32m    221\u001b[0m     )\n",
      "File \u001b[1;32m~\\AppData\\Local\\Programs\\Python\\Python310\\lib\\site-packages\\sklearn\\tree\\_export.py:905\u001b[0m, in \u001b[0;36mexport_graphviz\u001b[1;34m(decision_tree, out_file, max_depth, feature_names, class_names, label, filled, leaves_parallel, impurity, node_ids, proportion, rotate, rounded, special_characters, precision, fontname)\u001b[0m\n\u001b[0;32m    886\u001b[0m     out_file \u001b[38;5;241m=\u001b[39m StringIO()\n\u001b[0;32m    888\u001b[0m exporter \u001b[38;5;241m=\u001b[39m _DOTTreeExporter(\n\u001b[0;32m    889\u001b[0m     out_file\u001b[38;5;241m=\u001b[39mout_file,\n\u001b[0;32m    890\u001b[0m     max_depth\u001b[38;5;241m=\u001b[39mmax_depth,\n\u001b[1;32m   (...)\u001b[0m\n\u001b[0;32m    903\u001b[0m     fontname\u001b[38;5;241m=\u001b[39mfontname,\n\u001b[0;32m    904\u001b[0m )\n\u001b[1;32m--> 905\u001b[0m \u001b[43mexporter\u001b[49m\u001b[38;5;241;43m.\u001b[39;49m\u001b[43mexport\u001b[49m\u001b[43m(\u001b[49m\u001b[43mdecision_tree\u001b[49m\u001b[43m)\u001b[49m\n\u001b[0;32m    907\u001b[0m \u001b[38;5;28;01mif\u001b[39;00m return_string:\n\u001b[0;32m    908\u001b[0m     \u001b[38;5;28;01mreturn\u001b[39;00m exporter\u001b[38;5;241m.\u001b[39mout_file\u001b[38;5;241m.\u001b[39mgetvalue()\n",
      "File \u001b[1;32m~\\AppData\\Local\\Programs\\Python\\Python310\\lib\\site-packages\\sklearn\\tree\\_export.py:465\u001b[0m, in \u001b[0;36m_DOTTreeExporter.export\u001b[1;34m(self, decision_tree)\u001b[0m\n\u001b[0;32m    463\u001b[0m     \u001b[38;5;28mself\u001b[39m\u001b[38;5;241m.\u001b[39mrecurse(decision_tree, \u001b[38;5;241m0\u001b[39m, criterion\u001b[38;5;241m=\u001b[39m\u001b[38;5;124m\"\u001b[39m\u001b[38;5;124mimpurity\u001b[39m\u001b[38;5;124m\"\u001b[39m)\n\u001b[0;32m    464\u001b[0m \u001b[38;5;28;01melse\u001b[39;00m:\n\u001b[1;32m--> 465\u001b[0m     \u001b[38;5;28;43mself\u001b[39;49m\u001b[38;5;241;43m.\u001b[39;49m\u001b[43mrecurse\u001b[49m\u001b[43m(\u001b[49m\u001b[43mdecision_tree\u001b[49m\u001b[38;5;241;43m.\u001b[39;49m\u001b[43mtree_\u001b[49m\u001b[43m,\u001b[49m\u001b[43m \u001b[49m\u001b[38;5;241;43m0\u001b[39;49m\u001b[43m,\u001b[49m\u001b[43m \u001b[49m\u001b[43mcriterion\u001b[49m\u001b[38;5;241;43m=\u001b[39;49m\u001b[43mdecision_tree\u001b[49m\u001b[38;5;241;43m.\u001b[39;49m\u001b[43mcriterion\u001b[49m\u001b[43m)\u001b[49m\n\u001b[0;32m    467\u001b[0m \u001b[38;5;28mself\u001b[39m\u001b[38;5;241m.\u001b[39mtail()\n",
      "File \u001b[1;32m~\\AppData\\Local\\Programs\\Python\\Python310\\lib\\site-packages\\sklearn\\tree\\_export.py:523\u001b[0m, in \u001b[0;36m_DOTTreeExporter.recurse\u001b[1;34m(self, tree, node_id, criterion, parent, depth)\u001b[0m\n\u001b[0;32m    519\u001b[0m \u001b[38;5;28;01melse\u001b[39;00m:\n\u001b[0;32m    520\u001b[0m     \u001b[38;5;28mself\u001b[39m\u001b[38;5;241m.\u001b[39mranks[\u001b[38;5;28mstr\u001b[39m(depth)]\u001b[38;5;241m.\u001b[39mappend(\u001b[38;5;28mstr\u001b[39m(node_id))\n\u001b[0;32m    522\u001b[0m \u001b[38;5;28mself\u001b[39m\u001b[38;5;241m.\u001b[39mout_file\u001b[38;5;241m.\u001b[39mwrite(\n\u001b[1;32m--> 523\u001b[0m     \u001b[38;5;124m\"\u001b[39m\u001b[38;5;132;01m%d\u001b[39;00m\u001b[38;5;124m [label=\u001b[39m\u001b[38;5;132;01m%s\u001b[39;00m\u001b[38;5;124m\"\u001b[39m \u001b[38;5;241m%\u001b[39m (node_id, \u001b[38;5;28;43mself\u001b[39;49m\u001b[38;5;241;43m.\u001b[39;49m\u001b[43mnode_to_str\u001b[49m\u001b[43m(\u001b[49m\u001b[43mtree\u001b[49m\u001b[43m,\u001b[49m\u001b[43m \u001b[49m\u001b[43mnode_id\u001b[49m\u001b[43m,\u001b[49m\u001b[43m \u001b[49m\u001b[43mcriterion\u001b[49m\u001b[43m)\u001b[49m)\n\u001b[0;32m    524\u001b[0m )\n\u001b[0;32m    526\u001b[0m \u001b[38;5;28;01mif\u001b[39;00m \u001b[38;5;28mself\u001b[39m\u001b[38;5;241m.\u001b[39mfilled:\n\u001b[0;32m    527\u001b[0m     \u001b[38;5;28mself\u001b[39m\u001b[38;5;241m.\u001b[39mout_file\u001b[38;5;241m.\u001b[39mwrite(\n\u001b[0;32m    528\u001b[0m         \u001b[38;5;124m'\u001b[39m\u001b[38;5;124m, fillcolor=\u001b[39m\u001b[38;5;124m\"\u001b[39m\u001b[38;5;132;01m%s\u001b[39;00m\u001b[38;5;124m\"\u001b[39m\u001b[38;5;124m'\u001b[39m \u001b[38;5;241m%\u001b[39m \u001b[38;5;28mself\u001b[39m\u001b[38;5;241m.\u001b[39mget_fill_color(tree, node_id)\n\u001b[0;32m    529\u001b[0m     )\n",
      "File \u001b[1;32m~\\AppData\\Local\\Programs\\Python\\Python310\\lib\\site-packages\\sklearn\\tree\\_export.py:385\u001b[0m, in \u001b[0;36m_BaseTreeExporter.node_to_str\u001b[1;34m(self, tree, node_id, criterion)\u001b[0m\n\u001b[0;32m    383\u001b[0m     node_string \u001b[38;5;241m+\u001b[39m\u001b[38;5;241m=\u001b[39m \u001b[38;5;124m\"\u001b[39m\u001b[38;5;124mclass = \u001b[39m\u001b[38;5;124m\"\u001b[39m\n\u001b[0;32m    384\u001b[0m \u001b[38;5;28;01mif\u001b[39;00m \u001b[38;5;28mself\u001b[39m\u001b[38;5;241m.\u001b[39mclass_names \u001b[38;5;129;01mis\u001b[39;00m \u001b[38;5;129;01mnot\u001b[39;00m \u001b[38;5;28;01mTrue\u001b[39;00m:\n\u001b[1;32m--> 385\u001b[0m     class_name \u001b[38;5;241m=\u001b[39m \u001b[38;5;28;43mself\u001b[39;49m\u001b[38;5;241;43m.\u001b[39;49m\u001b[43mclass_names\u001b[49m\u001b[43m[\u001b[49m\u001b[43mnp\u001b[49m\u001b[38;5;241;43m.\u001b[39;49m\u001b[43margmax\u001b[49m\u001b[43m(\u001b[49m\u001b[43mvalue\u001b[49m\u001b[43m)\u001b[49m\u001b[43m]\u001b[49m\n\u001b[0;32m    386\u001b[0m \u001b[38;5;28;01melse\u001b[39;00m:\n\u001b[0;32m    387\u001b[0m     class_name \u001b[38;5;241m=\u001b[39m \u001b[38;5;124m\"\u001b[39m\u001b[38;5;124my\u001b[39m\u001b[38;5;132;01m%s\u001b[39;00m\u001b[38;5;132;01m%s\u001b[39;00m\u001b[38;5;132;01m%s\u001b[39;00m\u001b[38;5;124m\"\u001b[39m \u001b[38;5;241m%\u001b[39m (\n\u001b[0;32m    388\u001b[0m         characters[\u001b[38;5;241m1\u001b[39m],\n\u001b[0;32m    389\u001b[0m         np\u001b[38;5;241m.\u001b[39margmax(value),\n\u001b[0;32m    390\u001b[0m         characters[\u001b[38;5;241m2\u001b[39m],\n\u001b[0;32m    391\u001b[0m     )\n",
      "\u001b[1;31mIndexError\u001b[0m: index 1 is out of bounds for axis 0 with size 1"
     ]
    }
   ],
   "source": [
    "dot_data = export_graphviz(model, out_file=None, feature_names=feature_names, class_names=class_names)\n",
    "graph = graphviz.Source(dot_data)\n",
    "graph.format = 'png'\n",
    "graph.render(\"decision_tree\")"
   ]
  },
  {
   "cell_type": "code",
   "execution_count": null,
   "id": "300c7fc7",
   "metadata": {},
   "outputs": [],
   "source": []
  }
 ],
 "metadata": {
  "kernelspec": {
   "display_name": "Python 3 (ipykernel)",
   "language": "python",
   "name": "python3"
  },
  "language_info": {
   "codemirror_mode": {
    "name": "ipython",
    "version": 3
   },
   "file_extension": ".py",
   "mimetype": "text/x-python",
   "name": "python",
   "nbconvert_exporter": "python",
   "pygments_lexer": "ipython3",
   "version": "3.10.8"
  }
 },
 "nbformat": 4,
 "nbformat_minor": 5
}
